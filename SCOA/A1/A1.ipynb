{
 "cells": [
  {
   "cell_type": "code",
   "execution_count": 2,
   "metadata": {},
   "outputs": [],
   "source": [
    "import numpy as np\n",
    "import skfuzzy as fuzz"
   ]
  },
  {
   "cell_type": "code",
   "execution_count": 3,
   "metadata": {},
   "outputs": [],
   "source": [
    "X = np.linspace(start=0, stop=75, num=75, endpoint=True, retstep=False)\n",
    "\n",
    "abc1 = [0, 25, 50]\n",
    "abc2 = [25, 50, 75]\n",
    "A = fuzz.membership.trimf(X, abc1)\n",
    "B = fuzz.membership.trimf(X, abc2)"
   ]
  },
  {
   "cell_type": "code",
   "execution_count": null,
   "metadata": {},
   "outputs": [],
   "source": []
  },
  {
   "cell_type": "code",
   "execution_count": 4,
   "metadata": {},
   "outputs": [
    {
     "data": {
      "text/plain": [
       "array([0.        , 0.04054054, 0.08108108, 0.12162162, 0.16216216,\n",
       "       0.2027027 , 0.24324324, 0.28378378, 0.32432432, 0.36486486,\n",
       "       0.40540541, 0.44594595, 0.48648649, 0.52702703, 0.56756757,\n",
       "       0.60810811, 0.64864865, 0.68918919, 0.72972973, 0.77027027,\n",
       "       0.81081081, 0.85135135, 0.89189189, 0.93243243, 0.97297297,\n",
       "       0.98648649, 0.94594595, 0.90540541, 0.86486486, 0.82432432,\n",
       "       0.78378378, 0.74324324, 0.7027027 , 0.66216216, 0.62162162,\n",
       "       0.58108108, 0.54054054, 0.5       , 0.45945946, 0.41891892,\n",
       "       0.37837838, 0.33783784, 0.2972973 , 0.25675676, 0.21621622,\n",
       "       0.17567568, 0.13513514, 0.09459459, 0.05405405, 0.01351351,\n",
       "       0.        , 0.        , 0.        , 0.        , 0.        ,\n",
       "       0.        , 0.        , 0.        , 0.        , 0.        ,\n",
       "       0.        , 0.        , 0.        , 0.        , 0.        ,\n",
       "       0.        , 0.        , 0.        , 0.        , 0.        ,\n",
       "       0.        , 0.        , 0.        , 0.        , 0.        ])"
      ]
     },
     "execution_count": 4,
     "metadata": {},
     "output_type": "execute_result"
    }
   ],
   "source": [
    "A"
   ]
  },
  {
   "cell_type": "code",
   "execution_count": 5,
   "metadata": {},
   "outputs": [
    {
     "data": {
      "text/plain": [
       "array([0.        , 0.        , 0.        , 0.        , 0.        ,\n",
       "       0.        , 0.        , 0.        , 0.        , 0.        ,\n",
       "       0.        , 0.        , 0.        , 0.        , 0.        ,\n",
       "       0.        , 0.        , 0.        , 0.        , 0.        ,\n",
       "       0.        , 0.        , 0.        , 0.        , 0.        ,\n",
       "       0.01351351, 0.05405405, 0.09459459, 0.13513514, 0.17567568,\n",
       "       0.21621622, 0.25675676, 0.2972973 , 0.33783784, 0.37837838,\n",
       "       0.41891892, 0.45945946, 0.5       , 0.54054054, 0.58108108,\n",
       "       0.62162162, 0.66216216, 0.7027027 , 0.74324324, 0.78378378,\n",
       "       0.82432432, 0.86486486, 0.90540541, 0.94594595, 0.98648649,\n",
       "       0.97297297, 0.93243243, 0.89189189, 0.85135135, 0.81081081,\n",
       "       0.77027027, 0.72972973, 0.68918919, 0.64864865, 0.60810811,\n",
       "       0.56756757, 0.52702703, 0.48648649, 0.44594595, 0.40540541,\n",
       "       0.36486486, 0.32432432, 0.28378378, 0.24324324, 0.2027027 ,\n",
       "       0.16216216, 0.12162162, 0.08108108, 0.04054054, 0.        ])"
      ]
     },
     "execution_count": 5,
     "metadata": {},
     "output_type": "execute_result"
    }
   ],
   "source": [
    "B"
   ]
  },
  {
   "cell_type": "code",
   "execution_count": 6,
   "metadata": {},
   "outputs": [
    {
     "data": {
      "text/plain": [
       "array([ 0.        ,  1.01351351,  2.02702703,  3.04054054,  4.05405405,\n",
       "        5.06756757,  6.08108108,  7.09459459,  8.10810811,  9.12162162,\n",
       "       10.13513514, 11.14864865, 12.16216216, 13.17567568, 14.18918919,\n",
       "       15.2027027 , 16.21621622, 17.22972973, 18.24324324, 19.25675676,\n",
       "       20.27027027, 21.28378378, 22.2972973 , 23.31081081, 24.32432432,\n",
       "       25.33783784, 26.35135135, 27.36486486, 28.37837838, 29.39189189,\n",
       "       30.40540541, 31.41891892, 32.43243243, 33.44594595, 34.45945946,\n",
       "       35.47297297, 36.48648649, 37.5       , 38.51351351, 39.52702703,\n",
       "       40.54054054, 41.55405405, 42.56756757, 43.58108108, 44.59459459,\n",
       "       45.60810811, 46.62162162, 47.63513514, 48.64864865, 49.66216216,\n",
       "       50.67567568, 51.68918919, 52.7027027 , 53.71621622, 54.72972973,\n",
       "       55.74324324, 56.75675676, 57.77027027, 58.78378378, 59.7972973 ,\n",
       "       60.81081081, 61.82432432, 62.83783784, 63.85135135, 64.86486486,\n",
       "       65.87837838, 66.89189189, 67.90540541, 68.91891892, 69.93243243,\n",
       "       70.94594595, 71.95945946, 72.97297297, 73.98648649, 75.        ])"
      ]
     },
     "execution_count": 6,
     "metadata": {},
     "output_type": "execute_result"
    }
   ],
   "source": [
    "X"
   ]
  },
  {
   "cell_type": "code",
   "execution_count": null,
   "metadata": {},
   "outputs": [],
   "source": []
  },
  {
   "cell_type": "code",
   "execution_count": 7,
   "metadata": {},
   "outputs": [
    {
     "data": {
      "text/plain": [
       "array([0.        , 0.04054054, 0.08108108, 0.12162162, 0.16216216,\n",
       "       0.2027027 , 0.24324324, 0.28378378, 0.32432432, 0.36486486,\n",
       "       0.40540541, 0.44594595, 0.48648649, 0.52702703, 0.56756757,\n",
       "       0.60810811, 0.64864865, 0.68918919, 0.72972973, 0.77027027,\n",
       "       0.81081081, 0.85135135, 0.89189189, 0.93243243, 0.97297297,\n",
       "       0.98648649, 0.94594595, 0.90540541, 0.86486486, 0.82432432,\n",
       "       0.78378378, 0.74324324, 0.7027027 , 0.66216216, 0.62162162,\n",
       "       0.58108108, 0.54054054, 0.5       , 0.54054054, 0.58108108,\n",
       "       0.62162162, 0.66216216, 0.7027027 , 0.74324324, 0.78378378,\n",
       "       0.82432432, 0.86486486, 0.90540541, 0.94594595, 0.98648649,\n",
       "       0.97297297, 0.93243243, 0.89189189, 0.85135135, 0.81081081,\n",
       "       0.77027027, 0.72972973, 0.68918919, 0.64864865, 0.60810811,\n",
       "       0.56756757, 0.52702703, 0.48648649, 0.44594595, 0.40540541,\n",
       "       0.36486486, 0.32432432, 0.28378378, 0.24324324, 0.2027027 ,\n",
       "       0.16216216, 0.12162162, 0.08108108, 0.04054054, 0.        ])"
      ]
     },
     "execution_count": 7,
     "metadata": {},
     "output_type": "execute_result"
    }
   ],
   "source": [
    "union = fuzz.fuzzy_or(X, A, X, B)[1]\n",
    "union"
   ]
  },
  {
   "cell_type": "code",
   "execution_count": 8,
   "metadata": {},
   "outputs": [
    {
     "data": {
      "text/plain": [
       "array([0.        , 0.        , 0.        , 0.        , 0.        ,\n",
       "       0.        , 0.        , 0.        , 0.        , 0.        ,\n",
       "       0.        , 0.        , 0.        , 0.        , 0.        ,\n",
       "       0.        , 0.        , 0.        , 0.        , 0.        ,\n",
       "       0.        , 0.        , 0.        , 0.        , 0.        ,\n",
       "       0.01351351, 0.05405405, 0.09459459, 0.13513514, 0.17567568,\n",
       "       0.21621622, 0.25675676, 0.2972973 , 0.33783784, 0.37837838,\n",
       "       0.41891892, 0.45945946, 0.5       , 0.45945946, 0.41891892,\n",
       "       0.37837838, 0.33783784, 0.2972973 , 0.25675676, 0.21621622,\n",
       "       0.17567568, 0.13513514, 0.09459459, 0.05405405, 0.01351351,\n",
       "       0.        , 0.        , 0.        , 0.        , 0.        ,\n",
       "       0.        , 0.        , 0.        , 0.        , 0.        ,\n",
       "       0.        , 0.        , 0.        , 0.        , 0.        ,\n",
       "       0.        , 0.        , 0.        , 0.        , 0.        ,\n",
       "       0.        , 0.        , 0.        , 0.        , 0.        ])"
      ]
     },
     "execution_count": 8,
     "metadata": {},
     "output_type": "execute_result"
    }
   ],
   "source": [
    "intersection = fuzz.fuzzy_and(X, A, X, B)[1]\n",
    "intersection"
   ]
  },
  {
   "cell_type": "code",
   "execution_count": 9,
   "metadata": {},
   "outputs": [
    {
     "data": {
      "text/plain": [
       "array([1.        , 0.95945946, 0.91891892, 0.87837838, 0.83783784,\n",
       "       0.7972973 , 0.75675676, 0.71621622, 0.67567568, 0.63513514,\n",
       "       0.59459459, 0.55405405, 0.51351351, 0.47297297, 0.43243243,\n",
       "       0.39189189, 0.35135135, 0.31081081, 0.27027027, 0.22972973,\n",
       "       0.18918919, 0.14864865, 0.10810811, 0.06756757, 0.02702703,\n",
       "       0.01351351, 0.05405405, 0.09459459, 0.13513514, 0.17567568,\n",
       "       0.21621622, 0.25675676, 0.2972973 , 0.33783784, 0.37837838,\n",
       "       0.41891892, 0.45945946, 0.5       , 0.54054054, 0.58108108,\n",
       "       0.62162162, 0.66216216, 0.7027027 , 0.74324324, 0.78378378,\n",
       "       0.82432432, 0.86486486, 0.90540541, 0.94594595, 0.98648649,\n",
       "       1.        , 1.        , 1.        , 1.        , 1.        ,\n",
       "       1.        , 1.        , 1.        , 1.        , 1.        ,\n",
       "       1.        , 1.        , 1.        , 1.        , 1.        ,\n",
       "       1.        , 1.        , 1.        , 1.        , 1.        ,\n",
       "       1.        , 1.        , 1.        , 1.        , 1.        ])"
      ]
     },
     "execution_count": 9,
     "metadata": {},
     "output_type": "execute_result"
    }
   ],
   "source": [
    "complement_a = fuzz.fuzzy_not(A)\n",
    "complement_a"
   ]
  },
  {
   "cell_type": "code",
   "execution_count": 10,
   "metadata": {},
   "outputs": [
    {
     "data": {
      "text/plain": [
       "array([0.        , 0.04054054, 0.08108108, 0.12162162, 0.16216216,\n",
       "       0.2027027 , 0.24324324, 0.28378378, 0.32432432, 0.36486486,\n",
       "       0.40540541, 0.44594595, 0.48648649, 0.52702703, 0.56756757,\n",
       "       0.60810811, 0.64864865, 0.68918919, 0.72972973, 0.77027027,\n",
       "       0.81081081, 0.85135135, 0.89189189, 0.93243243, 0.97297297,\n",
       "       0.98648649, 0.94594595, 0.90540541, 0.86486486, 0.82432432,\n",
       "       0.78378378, 0.74324324, 0.7027027 , 0.66216216, 0.62162162,\n",
       "       0.58108108, 0.54054054, 0.5       , 0.45945946, 0.41891892,\n",
       "       0.37837838, 0.33783784, 0.2972973 , 0.25675676, 0.21621622,\n",
       "       0.17567568, 0.13513514, 0.09459459, 0.05405405, 0.01351351,\n",
       "       0.        , 0.        , 0.        , 0.        , 0.        ,\n",
       "       0.        , 0.        , 0.        , 0.        , 0.        ,\n",
       "       0.        , 0.        , 0.        , 0.        , 0.        ,\n",
       "       0.        , 0.        , 0.        , 0.        , 0.        ,\n",
       "       0.        , 0.        , 0.        , 0.        , 0.        ])"
      ]
     },
     "execution_count": 10,
     "metadata": {},
     "output_type": "execute_result"
    }
   ],
   "source": [
    "difference = fuzz.fuzzy_and(X, A, X, fuzz.fuzzy_not(B)[1])[1]\n",
    "difference"
   ]
  },
  {
   "cell_type": "code",
   "execution_count": 14,
   "metadata": {},
   "outputs": [],
   "source": [
    "import matplotlib.pyplot as plt "
   ]
  },
  {
   "cell_type": "code",
   "execution_count": 15,
   "metadata": {},
   "outputs": [
    {
     "data": {
      "image/png": "[encoded data removed]",
      "text/plain": [
       "<Figure size 432x288 with 1 Axes>"
      ]
     },
     "metadata": {
      "needs_background": "light"
     },
     "output_type": "display_data"
    }
   ],
   "source": [
    "plt.plot(X, A)\n",
    "plt.title(\"A\")\n",
    "plt.grid(True)"
   ]
  },
  {
   "cell_type": "code",
   "execution_count": 16,
   "metadata": {},
   "outputs": [
    {
     "data": {
      "image/png": "[encoded data removed]",
      "text/plain": [
       "<Figure size 432x288 with 1 Axes>"
      ]
     },
     "metadata": {
      "needs_background": "light"
     },
     "output_type": "display_data"
    }
   ],
   "source": [
    "plt.plot(X, B)\n",
    "plt.title(\"B\")\n",
    "plt.grid(True)"
   ]
  },
  {
   "cell_type": "code",
   "execution_count": 17,
   "metadata": {},
   "outputs": [
    {
     "data": {
      "text/plain": [
       "Text(0.5, 1.0, 'union')"
      ]
     },
     "execution_count": 17,
     "metadata": {},
     "output_type": "execute_result"
    },
    {
     "data": {
      "image/png": "[encoded data removed]",
      "text/plain": [
       "<Figure size 432x288 with 1 Axes>"
      ]
     },
     "metadata": {
      "needs_background": "light"
     },
     "output_type": "display_data"
    }
   ],
   "source": [
    "plt.plot(X, union)\n",
    "plt.title(\"union\")\n"
   ]
  },
  {
   "cell_type": "code",
   "execution_count": 18,
   "metadata": {},
   "outputs": [
    {
     "data": {
      "image/png": "[encoded data removed]",
      "text/plain": [
       "<Figure size 432x288 with 1 Axes>"
      ]
     },
     "metadata": {
      "needs_background": "light"
     },
     "output_type": "display_data"
    }
   ],
   "source": [
    "plt.plot(X, intersection)\n",
    "plt.title(\"intersection\")\n",
    "plt.grid(True)"
   ]
  },
  {
   "cell_type": "code",
   "execution_count": 19,
   "metadata": {},
   "outputs": [
    {
     "data": {
      "image/png": "[encoded data removed]",
      "text/plain": [
       "<Figure size 432x288 with 1 Axes>"
      ]
     },
     "metadata": {
      "needs_background": "light"
     },
     "output_type": "display_data"
    }
   ],
   "source": [
    "plt.plot(X, complement_a)\n",
    "plt.title(\"complement_a\")\n",
    "plt.grid(True)"
   ]
  },
  {
   "cell_type": "code",
   "execution_count": 20,
   "metadata": {},
   "outputs": [
    {
     "data": {
      "image/png": "[encoded data removed]",
      "text/plain": [
       "<Figure size 432x288 with 1 Axes>"
      ]
     },
     "metadata": {
      "needs_background": "light"
     },
     "output_type": "display_data"
    }
   ],
   "source": [
    "plt.plot(X, difference)\n",
    "plt.title(\"difference a/b\")\n",
    "plt.grid(True)"
   ]
  },
  {
   "cell_type": "code",
   "execution_count": 21,
   "metadata": {},
   "outputs": [],
   "source": [
    "C = [0.2, 0.3, 0.5]\n",
    "D = [0.8, 0.6, 0.3]"
   ]
  },
  {
   "cell_type": "code",
   "execution_count": 22,
   "metadata": {},
   "outputs": [],
   "source": [
    "E = [0.4, 0.9, 0.1]\n",
    "F = [0.8, 0.6, 0.3]"
   ]
  },
  {
   "cell_type": "code",
   "execution_count": 23,
   "metadata": {},
   "outputs": [
    {
     "data": {
      "text/plain": [
       "[0.2, 0.3, 0.5]"
      ]
     },
     "execution_count": 23,
     "metadata": {},
     "output_type": "execute_result"
    }
   ],
   "source": [
    "C"
   ]
  },
  {
   "cell_type": "code",
   "execution_count": 24,
   "metadata": {},
   "outputs": [
    {
     "data": {
      "text/plain": [
       "[0.8, 0.6, 0.3]"
      ]
     },
     "execution_count": 24,
     "metadata": {},
     "output_type": "execute_result"
    }
   ],
   "source": [
    "D"
   ]
  },
  {
   "cell_type": "code",
   "execution_count": 25,
   "metadata": {},
   "outputs": [
    {
     "data": {
      "text/plain": [
       "array([[0.2, 0.2, 0.2],\n",
       "       [0.3, 0.3, 0.3],\n",
       "       [0.5, 0.5, 0.3]])"
      ]
     },
     "execution_count": 25,
     "metadata": {},
     "output_type": "execute_result"
    }
   ],
   "source": [
    "s = fuzz.cartprod(C,D)\n",
    "s"
   ]
  },
  {
   "cell_type": "code",
   "execution_count": 26,
   "metadata": {},
   "outputs": [
    {
     "data": {
      "text/plain": [
       "array([[0.4, 0.4, 0.3],\n",
       "       [0.8, 0.6, 0.3],\n",
       "       [0.1, 0.1, 0.1]])"
      ]
     },
     "execution_count": 26,
     "metadata": {},
     "output_type": "execute_result"
    }
   ],
   "source": [
    "r = fuzz.cartprod(E,F)\n",
    "r"
   ]
  },
  {
   "cell_type": "code",
   "execution_count": 27,
   "metadata": {},
   "outputs": [
    {
     "data": {
      "text/plain": [
       "array([[0.2, 0.2, 0.2],\n",
       "       [0.3, 0.3, 0.3],\n",
       "       [0.5, 0.5, 0.3]])"
      ]
     },
     "execution_count": 27,
     "metadata": {},
     "output_type": "execute_result"
    }
   ],
   "source": [
    "max_min = fuzz.maxmin_composition(s,r)\n",
    "max_min"
   ]
  },
  {
   "cell_type": "code",
   "execution_count": null,
   "metadata": {},
   "outputs": [],
   "source": []
  },
  {
   "cell_type": "code",
   "execution_count": null,
   "metadata": {},
   "outputs": [],
   "source": []
  },
  {
   "cell_type": "code",
   "execution_count": null,
   "metadata": {},
   "outputs": [],
   "source": []
  }
 ],
 "metadata": {
  "kernelspec": {
   "display_name": "Python 3",
   "language": "python",
   "name": "python3"
  },
  "language_info": {
   "codemirror_mode": {
    "name": "ipython",
    "version": 3
   },
   "file_extension": ".py",
   "mimetype": "text/x-python",
   "name": "python",
   "nbconvert_exporter": "python",
   "pygments_lexer": "ipython3",
   "version": "3.7.10"
  }
 },
 "nbformat": 4,
 "nbformat_minor": 4
}
